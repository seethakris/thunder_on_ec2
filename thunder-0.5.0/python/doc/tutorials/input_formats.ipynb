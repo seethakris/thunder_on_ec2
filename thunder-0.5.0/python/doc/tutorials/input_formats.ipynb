{
 "metadata": {
  "name": "",
  "signature": "sha256:54a9a9141ef1e51e47a46add1504079d15c790dd7d95f69dd3dcbe69cb324dbf"
 },
 "nbformat": 3,
 "nbformat_minor": 0,
 "worksheets": [
  {
   "cells": [
    {
     "cell_type": "markdown",
     "metadata": {},
     "source": [
      ".. _input_format_tutorial:\n",
      "\n",
      ".. currentmodule:: thunder.utils.context"
     ]
    },
    {
     "cell_type": "heading",
     "level": 1,
     "metadata": {},
     "source": [
      "Input formats"
     ]
    },
    {
     "cell_type": "markdown",
     "metadata": {},
     "source": [
      "Data can be loaded from a variety of sources, depending on the desired data type."
     ]
    },
    {
     "cell_type": "markdown",
     "metadata": {},
     "source": [
      "Setup plotting\n",
      "--------------"
     ]
    },
    {
     "cell_type": "code",
     "collapsed": false,
     "input": [
      "%matplotlib inline"
     ],
     "language": "python",
     "metadata": {},
     "outputs": [],
     "prompt_number": 1
    },
    {
     "cell_type": "code",
     "collapsed": false,
     "input": [
      "import matplotlib.pyplot as plt\n",
      "import seaborn as sns\n",
      "sns.set_context('notebook')\n",
      "from thunder import Colorize\n",
      "image = Colorize.image"
     ],
     "language": "python",
     "metadata": {},
     "outputs": [],
     "prompt_number": 2
    },
    {
     "cell_type": "markdown",
     "metadata": {},
     "source": [
      "Loading Images\n",
      "--------------\n",
      "Images data are distributed collections of images or volumes. Two-dimensional images can be loaded from `png` or `tif` files, and three-dimensional volumes can be loaded from multi-page `tif-stack` volumes, or binary `stack` volumes. For an example, we'll load a set of `tif` images by specifying a folder (note: these are small, highly downsampled images included with Thunder purely for demonstration and testing):"
     ]
    },
    {
     "cell_type": "markdown",
     "metadata": {},
     "source": [
      "For these examples, first we find the location relative to the thunder installation"
     ]
    },
    {
     "cell_type": "code",
     "collapsed": false,
     "input": [
      "import os.path as pth\n",
      "imagepath = pth.join(pth.dirname(pth.realpath(thunder.__file__)), 'utils/data/fish/images')"
     ],
     "language": "python",
     "metadata": {},
     "outputs": [],
     "prompt_number": 3
    },
    {
     "cell_type": "markdown",
     "metadata": {},
     "source": [
      "Now load the images"
     ]
    },
    {
     "cell_type": "code",
     "collapsed": false,
     "input": [
      "data = tsc.loadImages(imagepath, inputFormat='tif')"
     ],
     "language": "python",
     "metadata": {},
     "outputs": [],
     "prompt_number": 4
    },
    {
     "cell_type": "markdown",
     "metadata": {},
     "source": [
      "To look at the first image:"
     ]
    },
    {
     "cell_type": "code",
     "collapsed": false,
     "input": [
      "img = data.first()[1]\n",
      "image(img[:,:,0])"
     ],
     "language": "python",
     "metadata": {},
     "outputs": [
      {
       "metadata": {},
       "output_type": "display_data",
       "png": "[encoded data removed]",
       "text": [
        "<matplotlib.figure.Figure at 0x109e77c50>"
       ]
      }
     ],
     "prompt_number": 8
    },
    {
     "cell_type": "markdown",
     "metadata": {},
     "source": [
      "To check the dimensions of the images:"
     ]
    },
    {
     "cell_type": "code",
     "collapsed": false,
     "input": [
      "data.dims.max"
     ],
     "language": "python",
     "metadata": {},
     "outputs": [
      {
       "metadata": {},
       "output_type": "pyout",
       "prompt_number": 9,
       "text": [
        "(75, 86, 1)"
       ]
      }
     ],
     "prompt_number": 9
    },
    {
     "cell_type": "markdown",
     "metadata": {},
     "source": [
      "And to check the total number of images:"
     ]
    },
    {
     "cell_type": "code",
     "collapsed": false,
     "input": [
      "data.nrecords"
     ],
     "language": "python",
     "metadata": {},
     "outputs": [
      {
       "metadata": {},
       "output_type": "pyout",
       "prompt_number": 10,
       "text": [
        "20"
       ]
      }
     ],
     "prompt_number": 10
    },
    {
     "cell_type": "markdown",
     "metadata": {},
     "source": [
      "For any of these image formats, the raw data can be stored on a local file system, a networked file system (accessible to all nodes of a cluster), or Amazon S3. To load images from S3, the location of the data must be specified as a URI, with \"s3://\" or \"s3n://\" given as the scheme.\n",
      " For instance, data stored in an S3 bucket named \"my-bucket\" under keys named \"my-data/fileN.stack\" could be retrieved by passing '`s3n://my-bucket/file*.stack`' to ``loadImages``."
     ]
    },
    {
     "cell_type": "markdown",
     "metadata": {},
     "source": [
      "It's easy to load only a subset of images: "
     ]
    },
    {
     "cell_type": "code",
     "collapsed": false,
     "input": [
      "data = tsc.loadImages(imagepath, inputFormat='tif', startIdx=0, stopIdx=10)"
     ],
     "language": "python",
     "metadata": {},
     "outputs": [],
     "prompt_number": 11
    },
    {
     "cell_type": "code",
     "collapsed": false,
     "input": [
      "data.nrecords"
     ],
     "language": "python",
     "metadata": {},
     "outputs": [
      {
       "metadata": {},
       "output_type": "pyout",
       "prompt_number": 12,
       "text": [
        "10"
       ]
      }
     ],
     "prompt_number": 12
    },
    {
     "cell_type": "markdown",
     "metadata": {},
     "source": [
      "Loading Series\n",
      "--------------\n",
      "A ``Series`` object is a distributed collection of one-dimensional arrays with simple integer key identifiers. All arrays in a ``Series`` must have the same length. They can be loaded from flat text or binary files."
     ]
    },
    {
     "cell_type": "markdown",
     "metadata": {},
     "source": [
      "Text files must contain a line for each record, with numbers separated by spaces. The first numbers of each line will be interpreted as keys, and subsequent numbers will be interpreted as values. The number of keys is user-specified. As before, we'll load example series data from a small file included with Thunder purely for testing purposes (this is the ``iris`` dataset)."
     ]
    },
    {
     "cell_type": "code",
     "collapsed": false,
     "input": [
      "seriespath = pth.join(pth.dirname(pth.realpath(thunder.__file__)), 'utils/data/iris/')\n",
      "data = tsc.loadSeries(seriespath + 'iris.txt', inputFormat='text', nkeys=1)"
     ],
     "language": "python",
     "metadata": {},
     "outputs": [],
     "prompt_number": 13
    },
    {
     "cell_type": "markdown",
     "metadata": {},
     "source": [
      "We could have also provided the folder name, rather than the file, and all file(s) of the given format would be loaded. Let's look at the first entry of the ``Series``:"
     ]
    },
    {
     "cell_type": "code",
     "collapsed": false,
     "input": [
      "data.first()"
     ],
     "language": "python",
     "metadata": {},
     "outputs": [
      {
       "metadata": {},
       "output_type": "pyout",
       "prompt_number": 14,
       "text": [
        "((0,), array([ 5.1,  3.5,  1.4,  0.2]))"
       ]
      }
     ],
     "prompt_number": 14
    },
    {
     "cell_type": "markdown",
     "metadata": {},
     "source": [
      "The index is automatically calculated based on the length of the values array:"
     ]
    },
    {
     "cell_type": "code",
     "collapsed": false,
     "input": [
      "data.index"
     ],
     "language": "python",
     "metadata": {},
     "outputs": [
      {
       "metadata": {},
       "output_type": "pyout",
       "prompt_number": 15,
       "text": [
        "array([0, 1, 2, 3])"
       ]
      }
     ],
     "prompt_number": 15
    },
    {
     "cell_type": "markdown",
     "metadata": {},
     "source": [
      "For comparison, you can look at the first raw line of the text file:"
     ]
    },
    {
     "cell_type": "code",
     "collapsed": false,
     "input": [
      "dataraw = sc.textFile(seriespath + 'iris.txt')\n",
      "dataraw.first()"
     ],
     "language": "python",
     "metadata": {},
     "outputs": [
      {
       "metadata": {},
       "output_type": "pyout",
       "prompt_number": 16,
       "text": [
        "u'0 5.1 3.5 1.4 0.2'"
       ]
      }
     ],
     "prompt_number": 16
    },
    {
     "cell_type": "markdown",
     "metadata": {},
     "source": [
      "Flat binary files must store each record as a contiguous sequence of bytes, with a fixed size in bytes for each record, including both keys and values. The number and numerical type of keys and records are most convieniently specified in a configuration file in the same directory as the data, but can also be specified as input arguments. Here, we show two ways of loading a binary version of the same ``iris`` data loaded previously."
     ]
    },
    {
     "cell_type": "code",
     "collapsed": false,
     "input": [
      "data = tsc.loadSeries(seriespath + 'iris.bin', inputFormat='binary')\n",
      "data.first()"
     ],
     "language": "python",
     "metadata": {},
     "outputs": [
      {
       "metadata": {},
       "output_type": "pyout",
       "prompt_number": 17,
       "text": [
        "((0,), array([ 5.1,  3.5,  1.4,  0.2]))"
       ]
      }
     ],
     "prompt_number": 17
    },
    {
     "cell_type": "markdown",
     "metadata": {},
     "source": [
      "In this case, the number of keys and number of values in each record, along with the data types of the keys and values, are automatically read out from a ``conf.json`` file located in the same directory as ``iris.bin``. This file has a simple JSON format. But when a ``conf.json`` file is unavailable, these parameters can also be passed as arguments to the ``loadSeries`` method:"
     ]
    },
    {
     "cell_type": "code",
     "collapsed": false,
     "input": [
      "data = tsc.loadSeries(seriespath + 'iris.bin', inputFormat='binary', nkeys=1, nvalues=4, keyType='float', valueType='float')\n",
      "data.first()"
     ],
     "language": "python",
     "metadata": {},
     "outputs": [
      {
       "metadata": {},
       "output_type": "pyout",
       "prompt_number": 18,
       "text": [
        "((0,), array([ 5.1,  3.5,  1.4,  0.2]))"
       ]
      }
     ],
     "prompt_number": 18
    },
    {
     "cell_type": "markdown",
     "metadata": {},
     "source": [
      "Flat binary files are a particularly convienient format when exporting large data sets from other scientific computing environments, e.g. Matlab. For example, the data loaded above was written out from within Matlab using"
     ]
    },
    {
     "cell_type": "markdown",
     "metadata": {},
     "source": [
      ">> f = fopen('iris.bin','w')"
     ]
    },
    {
     "cell_type": "markdown",
     "metadata": {},
     "source": [
      ">> fwrite(f, [[0:149]' data]','double')"
     ]
    },
    {
     "cell_type": "markdown",
     "metadata": {},
     "source": [
      "Where ``data`` is a matrix containing the data, and we append a column for the indices. Note that the data must be transposed because of Matlab's ordering conventions."
     ]
    },
    {
     "cell_type": "markdown",
     "metadata": {},
     "source": [
      "Both text and binary data can be loaded from a single file or multiple files, stored on a local file system, a networked file system, Amazon S3, or HDFS. To load multiple files at once, specify a directory as the filename, or a wildcard pattern."
     ]
    },
    {
     "cell_type": "markdown",
     "metadata": {},
     "source": [
      "There is also a method for easily loading ``Series`` data from local arrays saved in either numpy ``npy`` or Matlab ``MAT`` format. This is not advised when working with large data sets, but may be convenient for local testing, or for distributing a smaller data set for performing intensive computations. In the latter case, the number of partitions should be set to approximately 2-3 times the number of cores avaialble on your cluster, so that different cores can work on different portions of the data."
     ]
    },
    {
     "cell_type": "code",
     "collapsed": false,
     "input": [
      "data = tsc.loadSeries(seriespath + '/iris.mat', inputFormat='mat', varName='data', minPartitions=5)\n",
      "data.first()"
     ],
     "language": "python",
     "metadata": {},
     "outputs": [
      {
       "metadata": {},
       "output_type": "pyout",
       "prompt_number": 19,
       "text": [
        "(0, array([ 5.1,  3.5,  1.4,  0.2]))"
       ]
      }
     ],
     "prompt_number": 19
    },
    {
     "cell_type": "code",
     "collapsed": false,
     "input": [
      "data = tsc.loadSeries(seriespath + '/iris.npy', inputFormat='npy', minPartitions=5)\n",
      "data.first()"
     ],
     "language": "python",
     "metadata": {},
     "outputs": [
      {
       "metadata": {},
       "output_type": "pyout",
       "prompt_number": 20,
       "text": [
        "(0, array([ 5.1,  3.5,  1.4,  0.2]))"
       ]
      }
     ],
     "prompt_number": 20
    }
   ],
   "metadata": {}
  }
 ]
}