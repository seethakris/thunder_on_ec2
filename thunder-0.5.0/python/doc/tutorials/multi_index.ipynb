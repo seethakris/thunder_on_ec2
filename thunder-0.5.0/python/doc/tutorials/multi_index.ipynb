{
 "metadata": {
  "name": "",
  "signature": "sha256:e84245ae72f3d03c94ca72dfbe83f7623b06a4cd915b8a09f58e980abc37a38e"
 },
 "nbformat": 3,
 "nbformat_minor": 0,
 "worksheets": [
  {
   "cells": [
    {
     "cell_type": "markdown",
     "metadata": {},
     "source": [
      ".. _multi_indexing_tutorial:\n",
      "\n",
      ".. currentmodule:: thunder"
     ]
    },
    {
     "cell_type": "heading",
     "level": 1,
     "metadata": {},
     "source": [
      "Multi-indexing"
     ]
    },
    {
     "cell_type": "markdown",
     "metadata": {},
     "source": [
      "When dealing with series data, it is often useful to index each element of the series with multiple labels and then be able to select and aggregrate data based on these indices. For example, in an experiment where time-series data are collected, each point in time might be identified by trial number, block number, one or more experimental conditions, etc. This tutorial shows how to create and leverage such \"multi-indices\" when working with Thunder Series objects."
     ]
    },
    {
     "cell_type": "markdown",
     "metadata": {},
     "source": [
      "Creating a toy data set\n",
      "-----------------------"
     ]
    },
    {
     "cell_type": "markdown",
     "metadata": {},
     "source": [
      "Let's start by building a simple Series with only a single record."
     ]
    },
    {
     "cell_type": "code",
     "collapsed": false,
     "input": [
      "from thunder import Series\n",
      "from numpy import arange, array"
     ],
     "language": "python",
     "metadata": {},
     "outputs": [],
     "prompt_number": 6
    },
    {
     "cell_type": "code",
     "collapsed": false,
     "input": [
      "data = Series(sc.parallelize([((1,), arange(12))]))\n",
      "data.first()"
     ],
     "language": "python",
     "metadata": {},
     "outputs": [
      {
       "metadata": {},
       "output_type": "pyout",
       "prompt_number": 7,
       "text": [
        "((1,), array([ 0,  1,  2,  3,  4,  5,  6,  7,  8,  9, 10, 11]))"
       ]
      }
     ],
     "prompt_number": 7
    },
    {
     "cell_type": "markdown",
     "metadata": {},
     "source": [
      "By default, the index on the series will label the elemets with ascending integers."
     ]
    },
    {
     "cell_type": "code",
     "collapsed": false,
     "input": [
      "data.index"
     ],
     "language": "python",
     "metadata": {},
     "outputs": [
      {
       "metadata": {},
       "output_type": "pyout",
       "prompt_number": 8,
       "text": [
        "array([ 0,  1,  2,  3,  4,  5,  6,  7,  8,  9, 10, 11])"
       ]
      }
     ],
     "prompt_number": 8
    },
    {
     "cell_type": "markdown",
     "metadata": {},
     "source": [
      "For the sake of example, let's assume that these data come from an experient with two trials. Thus we might have one index describing the trial structure."
     ]
    },
    {
     "cell_type": "code",
     "collapsed": false,
     "input": [
      "trial = array([1, 1, 1, 1, 1, 1, 2, 2, 2, 2, 2, 2])"
     ],
     "language": "python",
     "metadata": {},
     "outputs": [],
     "prompt_number": 9
    },
    {
     "cell_type": "markdown",
     "metadata": {},
     "source": [
      "Furthermore, let's assume that each trial is broken into three blocks. This can be described with a second index."
     ]
    },
    {
     "cell_type": "code",
     "collapsed": false,
     "input": [
      "block = array([1, 1, 2, 2, 3, 3, 1, 1, 2, 2, 3, 3])"
     ],
     "language": "python",
     "metadata": {},
     "outputs": [],
     "prompt_number": 10
    },
    {
     "cell_type": "markdown",
     "metadata": {},
     "source": [
      "Finally, in this simple example, we have two time points within each block."
     ]
    },
    {
     "cell_type": "code",
     "collapsed": false,
     "input": [
      "point = array([1, 2, 1, 2, 1, 2, 1, 2, 1, 2, 1, 2])"
     ],
     "language": "python",
     "metadata": {},
     "outputs": [],
     "prompt_number": 12
    },
    {
     "cell_type": "markdown",
     "metadata": {},
     "source": [
      "A multi-index for this data can then be created as list of lists, where each sub-list contains one value from each of the individual indices. "
     ]
    },
    {
     "cell_type": "code",
     "collapsed": false,
     "input": [
      "index = array([trial, block, point]).T\n",
      "data.index = index\n",
      "data.index"
     ],
     "language": "python",
     "metadata": {},
     "outputs": [
      {
       "metadata": {},
       "output_type": "pyout",
       "prompt_number": 13,
       "text": [
        "array([[1, 1, 1],\n",
        "       [1, 1, 2],\n",
        "       [1, 2, 1],\n",
        "       [1, 2, 2],\n",
        "       [1, 3, 1],\n",
        "       [1, 3, 2],\n",
        "       [2, 1, 1],\n",
        "       [2, 1, 2],\n",
        "       [2, 2, 1],\n",
        "       [2, 2, 2],\n",
        "       [2, 3, 1],\n",
        "       [2, 3, 2]])"
       ]
      }
     ],
     "prompt_number": 13
    },
    {
     "cell_type": "markdown",
     "metadata": {},
     "source": [
      "As a useful piece of terminology, we would say that the resulting multi-index has three levels: level 0 (trial); level 1 (block); and level 3 (time point)."
     ]
    },
    {
     "cell_type": "markdown",
     "metadata": {},
     "source": [
      "Selecting\n",
      "---------"
     ]
    },
    {
     "cell_type": "markdown",
     "metadata": {},
     "source": [
      "There are two major pieces of multi-index functionality, the first of which is selection. To select a subset of the Series based on the multi-index, we choose both a value and a level and then only elements where that level of the index matches the value will be retained. For instance, we could select only the data data points from the first trial (level = 0; value = 1). Note: the transpose of the index is shown so that the values of the index can be aligned above the values of the series."
     ]
    },
    {
     "cell_type": "code",
     "collapsed": false,
     "input": [
      "selected = data.selectByIndex(1, level=0)\n",
      "\n",
      "def displaySeries(series):\n",
      "    print \"index\"\n",
      "    print \"-----\"\n",
      "    print series.index.T\n",
      "    print \"series\"\n",
      "    print \"------\"\n",
      "    print series.values().first()\n",
      "    \n",
      "displaySeries(selected)"
     ],
     "language": "python",
     "metadata": {},
     "outputs": [
      {
       "output_type": "stream",
       "stream": "stdout",
       "text": [
        "index\n",
        "-----\n",
        "[[1 1 1 1 1 1]\n",
        " [1 1 2 2 3 3]\n",
        " [1 2 1 2 1 2]]\n",
        "series\n",
        "------\n",
        "[0 1 2 3 4 5]"
       ]
      },
      {
       "output_type": "stream",
       "stream": "stdout",
       "text": [
        "\n"
       ]
      }
     ],
     "prompt_number": 14
    },
    {
     "cell_type": "markdown",
     "metadata": {},
     "source": [
      "As we see above, once a single value has been selected from a certain level, the index values at that level become redundant and we might desire to discard them. This can be accomplished with the \"squeeze\" option."
     ]
    },
    {
     "cell_type": "code",
     "collapsed": false,
     "input": [
      "selected = data.selectByIndex(1, level=0, squeeze=True)\n",
      "displaySeries(selected)"
     ],
     "language": "python",
     "metadata": {},
     "outputs": [
      {
       "output_type": "stream",
       "stream": "stdout",
       "text": [
        "index\n",
        "-----\n",
        "[[1 1 2 2 3 3]\n",
        " [1 2 1 2 1 2]]\n",
        "series\n",
        "------\n",
        "[0 1 2 3 4 5]"
       ]
      },
      {
       "output_type": "stream",
       "stream": "stdout",
       "text": [
        "\n"
       ]
      }
     ],
     "prompt_number": 15
    },
    {
     "cell_type": "markdown",
     "metadata": {},
     "source": [
      "We can also select multiple values at a given level by passing a list of values. He we select data from blocks 2 and 3 (level = 1; value = 2 or 3)."
     ]
    },
    {
     "cell_type": "code",
     "collapsed": false,
     "input": [
      "selected = data.selectByIndex([2, 3], level=1)\n",
      "displaySeries(selected)"
     ],
     "language": "python",
     "metadata": {},
     "outputs": [
      {
       "output_type": "stream",
       "stream": "stdout",
       "text": [
        "index\n",
        "-----\n",
        "[[1 1 1 1 2 2 2 2]\n",
        " [2 2 3 3 2 2 3 3]\n",
        " [1 2 1 2 1 2 1 2]]\n",
        "series\n",
        "------\n",
        "[ 2  3  4  5  8  9 10 11]"
       ]
      },
      {
       "output_type": "stream",
       "stream": "stdout",
       "text": [
        "\n"
       ]
      }
     ],
     "prompt_number": 16
    },
    {
     "cell_type": "markdown",
     "metadata": {},
     "source": [
      "In the most general case, we can select multiple values at multiple levels. Let's combine the previous two examples and get the 2nd and 3rd blocks (level = 1; value = 2 or 3), but only for the 1st trial (level = 0; value = 1)."
     ]
    },
    {
     "cell_type": "code",
     "collapsed": false,
     "input": [
      "selected = data.selectByIndex([1, [2, 3]], level=[0, 1])\n",
      "displaySeries(selected)"
     ],
     "language": "python",
     "metadata": {},
     "outputs": [
      {
       "output_type": "stream",
       "stream": "stdout",
       "text": [
        "index\n",
        "-----\n",
        "[[1 1 1 1]\n",
        " [2 2 3 3]\n",
        " [1 2 1 2]]\n",
        "series\n",
        "------\n",
        "[2 3 4 5]"
       ]
      },
      {
       "output_type": "stream",
       "stream": "stdout",
       "text": [
        "\n"
       ]
      }
     ],
     "prompt_number": 17
    },
    {
     "cell_type": "markdown",
     "metadata": {},
     "source": [
      "Finally, we can reverse the process of \"selection\" (keeping only the elements that match the values) to that of \"filtering\" (keeping all elements *except* those that match the values). This is accomplished with the \"filter\" keyword. To demonstrate, lets get all of the blocks *except* for the 2nd (level = 1; value = 2)."
     ]
    },
    {
     "cell_type": "code",
     "collapsed": false,
     "input": [
      "selected = data.selectByIndex(2, level=1, filter=True)\n",
      "displaySeries(selected)"
     ],
     "language": "python",
     "metadata": {},
     "outputs": [
      {
       "output_type": "stream",
       "stream": "stdout",
       "text": [
        "index\n",
        "-----\n",
        "[[1 1 1 1 2 2 2 2]\n",
        " [1 1 3 3 1 1 3 3]\n",
        " [1 2 1 2 1 2 1 2]]\n",
        "series\n",
        "------\n",
        "[ 0  1  4  5  6  7 10 11]"
       ]
      },
      {
       "output_type": "stream",
       "stream": "stdout",
       "text": [
        "\n"
       ]
      }
     ],
     "prompt_number": 18
    },
    {
     "cell_type": "markdown",
     "metadata": {},
     "source": [
      "Aggregation\n",
      "-----------"
     ]
    },
    {
     "cell_type": "markdown",
     "metadata": {},
     "source": [
      "The second major multi-index operation is aggregation. Aggregation can be thought of as a two step-process. First a level is selected and the series is partitioned into pieces that share the index value at that level. Second an aggregating function is applied to each of these partitions, and a new series is reconsituted with one element for the aggregate value computed on each piece. The aggregating function should take an array as input and return a single numeric values as output.\n",
      "\n",
      "As a simple initial demonstration, let's find the average value of our series for each trial (level = 0)."
     ]
    },
    {
     "cell_type": "code",
     "collapsed": false,
     "input": [
      "from numpy import mean\n",
      "aggregated = data.seriesAggregateByIndex(mean, level=0)\n",
      "displaySeries(aggregated)"
     ],
     "language": "python",
     "metadata": {},
     "outputs": [
      {
       "output_type": "stream",
       "stream": "stdout",
       "text": [
        "index\n",
        "-----\n",
        "[1 2]\n",
        "series\n",
        "------\n",
        "[ 2.5  8.5]"
       ]
      },
      {
       "output_type": "stream",
       "stream": "stdout",
       "text": [
        "\n"
       ]
      }
     ],
     "prompt_number": 19
    },
    {
     "cell_type": "markdown",
     "metadata": {},
     "source": [
      "As a more complex example, we might want aggregation with respect to the values on multiple levels. For example, we might want to examine how the maximum value at each time point (level = 2) is different across the different trials (level = 0)."
     ]
    },
    {
     "cell_type": "code",
     "collapsed": false,
     "input": [
      "from numpy import max\n",
      "aggregated = data.seriesAggregateByIndex(max, level=[0, 2])\n",
      "displaySeries(aggregated)"
     ],
     "language": "python",
     "metadata": {},
     "outputs": [
      {
       "output_type": "stream",
       "stream": "stdout",
       "text": [
        "index\n",
        "-----\n",
        "[[1 1 2 2]\n",
        " [1 2 1 2]]\n",
        "series\n",
        "------\n",
        "[ 4  5 10 11]"
       ]
      },
      {
       "output_type": "stream",
       "stream": "stdout",
       "text": [
        "\n"
       ]
      }
     ],
     "prompt_number": 20
    }
   ],
   "metadata": {}
  }
 ]
}