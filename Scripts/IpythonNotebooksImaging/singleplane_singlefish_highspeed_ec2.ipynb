{
 "cells": [
  {
   "cell_type": "code",
   "execution_count": 1,
   "metadata": {
    "collapsed": false,
    "deletable": true,
    "editable": true
   },
   "outputs": [],
   "source": [
    "#Foldername that contains data\n",
    "FolderName = '/home/ubuntu/Analysis/Data/Fish6/'\n",
    "\n",
    "#Other Stimulus parameters\n",
    "time_end = 5999\n",
    "frames_per_sec = 20\n",
    "median_filter_idx = 1\n",
    "time_baseline = [0, 500]\n",
    "\n",
    "#Region to analyze\n",
    "region_to_analyze = 'OBPlane'\n",
    "\n",
    "#Savemodes\n",
    "savemode_loaddata = True\n",
    "savemode_background = True\n",
    "savemode_detrenddata = True\n",
    "savemode_zscoredata = True\n",
    "savemode_smootheddata = True"
   ]
  },
  {
   "cell_type": "markdown",
   "metadata": {
    "deletable": true,
    "editable": true
   },
   "source": [
    "## Algorithm"
   ]
  },
  {
   "cell_type": "markdown",
   "metadata": {
    "deletable": true,
    "editable": true
   },
   "source": [
    "### Start Thunder"
   ]
  },
  {
   "cell_type": "code",
   "execution_count": 2,
   "metadata": {
    "collapsed": false,
    "deletable": true,
    "editable": true
   },
   "outputs": [
    {
     "name": "stdout",
     "output_type": "stream",
     "text": [
      "Starting Thunder Now. Check console for details\n"
     ]
    }
   ],
   "source": [
    "# Create new config - To avoid maxResultSize error. Stop Spark context and reload ThunderContext\n",
    "from thunder import ThunderContext\n",
    "from pyspark import SparkConf, SparkContext\n",
    "\n",
    "conf = (SparkConf()\n",
    "        .set(\"spark.driver.maxResultSize\", \"0\")\n",
    "       .set(\"spark.executor.memory\", \"4g\"))\n",
    "\n",
    "sc.stop()\n",
    "\n",
    "# Create new thunder context using the configuration\n",
    "print 'Starting Thunder Now. Check console for details'\n",
    "tsc = ThunderContext.start(appName=\"thunderpca\", conf=conf)\n",
    "\n",
    "# # # Start Thunder and get thunder constant\n",
    "# print 'Starting Thunder Now. Check console for details'\n",
    "# from thunder import ThunderContext\n",
    "# tsc = ThunderContext.start(appName=\"thunderpca\")"
   ]
  },
  {
   "cell_type": "markdown",
   "metadata": {
    "deletable": true,
    "editable": true
   },
   "source": [
    "### 1. Import libraries"
   ]
  },
  {
   "cell_type": "code",
   "execution_count": 16,
   "metadata": {
    "collapsed": false,
    "deletable": true,
    "editable": true
   },
   "outputs": [],
   "source": [
    "import seaborn as sns\n",
    "import matplotlib.pyplot as plt\n",
    "import numpy as np\n",
    "from thunder import Colorize\n",
    "import os\n",
    "import sys\n",
    "from copy import copy\n",
    "from matplotlib.colors import ListedColormap\n",
    "from matplotlib.backends.backend_pdf import PdfPages\n",
    "import zipfile\n",
    "import shutil\n",
    "import time\n",
    "\n",
    "MODULES_DIR = '/Users/seetha/Desktop/my_cool_python_functions/for_opening_data/'\n",
    "sys.path.append(os.path.dirname(MODULES_DIR))"
   ]
  },
  {
   "cell_type": "code",
   "execution_count": 7,
   "metadata": {
    "collapsed": true,
    "deletable": true,
    "editable": true
   },
   "outputs": [],
   "source": [
    "filesep = os.path.sep\n",
    "%matplotlib inline\n",
    "sns.set_context('notebook', font_scale=1.5)\n",
    "image = Colorize.image"
   ]
  },
  {
   "cell_type": "code",
   "execution_count": 8,
   "metadata": {
    "collapsed": false,
    "deletable": true,
    "editable": true,
    "run_control": {
     "marked": false
    }
   },
   "outputs": [],
   "source": [
    "# Generate Stimulus on and Off times\n",
    "import generate_stim_on_and_off_times\n",
    "reload(generate_stim_on_and_off_times)\n",
    "from generate_stim_on_and_off_times import GetStimulusOnOffTimes\n",
    "\n",
    "stimulus_on_time = [800, 2100, 3400, 4700]\n",
    "stimulus_off_time = [1300, 2600, 4000, 5200]\n",
    "stimulus_train = ['Low', 'Med', 'High', 'Lys']\n",
    "color_mat = ['aqua', 'cornflowerblue', 'blue', 'red']"
   ]
  },
  {
   "cell_type": "code",
   "execution_count": 9,
   "metadata": {
    "collapsed": false,
    "deletable": true,
    "editable": true
   },
   "outputs": [],
   "source": [
    "#Create directory for Figures\n",
    "Figure_PDFDirectory = os.path.join(FolderName, region_to_analyze, 'Figures') + filesep\n",
    "if not os.path.exists(Figure_PDFDirectory):\n",
    "    os.makedirs(Figure_PDFDirectory)\n",
    "FishName =  os.path.basename(os.path.normpath(FolderName)) #Get fishname to append to Figures"
   ]
  },
  {
   "cell_type": "code",
   "execution_count": 10,
   "metadata": {
    "collapsed": false,
    "deletable": true,
    "editable": true
   },
   "outputs": [],
   "source": [
    "#Create directories to store Series Dataset\n",
    "SeriesDirectory = os.path.join(FolderName, region_to_analyze, 'SeriesDatasets') + filesep\n",
    "if not os.path.exists(SeriesDirectory):\n",
    "    os.makedirs(SeriesDirectory)"
   ]
  },
  {
   "cell_type": "code",
   "execution_count": 11,
   "metadata": {
    "collapsed": false,
    "deletable": true,
    "editable": true
   },
   "outputs": [],
   "source": [
    "#Create directories to store result npz\n",
    "NpzDirectory = os.path.join(FolderName, region_to_analyze, 'NumpyArrays') + filesep\n",
    "if not os.path.exists(NpzDirectory):\n",
    "    os.makedirs(NpzDirectory)"
   ]
  },
  {
   "cell_type": "markdown",
   "metadata": {
    "deletable": true,
    "editable": true
   },
   "source": [
    "### 2.Preprocess data"
   ]
  },
  {
   "cell_type": "code",
   "execution_count": null,
   "metadata": {
    "collapsed": false,
    "deletable": true,
    "editable": true,
    "run_control": {
     "marked": false
    }
   },
   "outputs": [],
   "source": [
    "#Load functions for preprocessing first\n",
    "import functions_for_preprocessing\n",
    "reload(functions_for_preprocessing)\n",
    "from functions_for_preprocessing import class_preprocess_data\n",
    "analyze = class_preprocess_data(tsc, time_baseline, stimulus_on_time, stimulus_off_time, stimulus_train, SeriesDirectory)"
   ]
  },
  {
   "cell_type": "code",
   "execution_count": null,
   "metadata": {
    "code_folding": [
     1
    ],
    "collapsed": false,
    "deletable": true,
    "editable": true
   },
   "outputs": [],
   "source": [
    "filename = os.path.join(FolderName, '16bit') + filesep\n",
    "print filename\n",
    "#Raise error if no such folder exists\n",
    "if not(os.path.isdir(filename)):\n",
    "    raise(ValueError('There are no such folders'))"
   ]
  },
  {
   "cell_type": "code",
   "execution_count": null,
   "metadata": {
    "collapsed": true,
    "deletable": true,
    "editable": true
   },
   "outputs": [],
   "source": [
    "# Crop Image\n",
    "crop = 1 \n",
    "img_size_crop_y1 = 5  # How many pixels to crop on x and y axis. If none say 0\n",
    "img_size_crop_y2 = 5\n",
    "img_size_crop_x1 = 5  \n",
    "img_size_crop_x2 = 5\n",
    "\n",
    "# Registration\n",
    "register = 0"
   ]
  },
  {
   "cell_type": "code",
   "execution_count": 31,
   "metadata": {
    "code_folding": [],
    "collapsed": false,
    "deletable": true,
    "editable": true,
    "run_control": {
     "marked": false
    }
   },
   "outputs": [
    {
     "name": "stdout",
     "output_type": "stream",
     "text": [
      "Data loading took 0.00 minutes\n"
     ]
    }
   ],
   "source": [
    "# LOad data  \n",
    "start = time.time()\n",
    "if savemode_loaddata:    \n",
    "    data = analyze.load_and_preprocess_data(filename, crop, register, img_size_crop_x1, img_size_crop_x2, img_size_crop_y1,\n",
    "                                 img_size_crop_y2,  medianfilter_window=median_filter_idx, \\\n",
    "                                            start_frame=0, end_frame=time_end)\n",
    "else:     \n",
    "    data = analyze.loadseriesdataset('raw_data')\n",
    "end = time.time()\n",
    "print 'Data loading took %0.2f minutes' %((end - start)//60)"
   ]
  },
  {
   "cell_type": "code",
   "execution_count": null,
   "metadata": {
    "collapsed": false,
    "deletable": true,
    "editable": true
   },
   "outputs": [],
   "source": [
    "img_raw = data.seriesMean().pack()\n",
    "examples = analyze.get_small_subset_for_plotting(data, number_samples=100, threshold=50)"
   ]
  },
  {
   "cell_type": "code",
   "execution_count": null,
   "metadata": {
    "collapsed": false,
    "deletable": true,
    "editable": true
   },
   "outputs": [],
   "source": [
    "time_experiment = time_end\n",
    "print 'Time points in experiment..', time_experiment"
   ]
  },
  {
   "cell_type": "code",
   "execution_count": null,
   "metadata": {
    "collapsed": false,
    "deletable": true,
    "editable": true,
    "run_control": {
     "marked": false
    }
   },
   "outputs": [],
   "source": [
    "# Plot mean and traces of data and check whether to detrend or not\n",
    "pp = PdfPages(Figure_PDFDirectory + FishName+'_Preprocessed_Data.pdf')\n",
    "fig1 = plt.figure(figsize=(15,8))\n",
    "gs = plt.GridSpec(1, 2)\n",
    "title = 'Raw Data :'\n",
    "analyze.plotimageplanes(fig1, gs, img_raw, plot_title= title + region_to_analyze, gridspecs='[0, 0]')\n",
    "analyze.plot_traces(fig1, gs, examples, gridspecs='[0, 1]')\n",
    "plt.tight_layout()\n",
    "plt.show()\n",
    "pp.savefig(fig1, bbox_inches='tight')\n",
    "pp.close()"
   ]
  },
  {
   "cell_type": "markdown",
   "metadata": {
    "deletable": true,
    "editable": true
   },
   "source": [
    "## Non-linear detrend of data"
   ]
  },
  {
   "cell_type": "code",
   "execution_count": null,
   "metadata": {
    "collapsed": false,
    "deletable": true,
    "editable": true
   },
   "outputs": [],
   "source": [
    "if savemode_detrenddata: \n",
    "    data_detrend = analyze.detrend_data(data, detrend_order=2)\n",
    "else:    \n",
    "    data_detrend = analyze.loadseriesdataset('detrended_data')"
   ]
  },
  {
   "cell_type": "code",
   "execution_count": null,
   "metadata": {
    "collapsed": false,
    "deletable": true,
    "editable": true
   },
   "outputs": [],
   "source": [
    "pp = PdfPages(Figure_PDFDirectory + FishName +'_DetrendedData.pdf')\n",
    "examples = analyze.get_small_subset_for_plotting(data_detrend, number_samples=100, threshold=50)\n",
    "    \n",
    "#Plot\n",
    "fig1 = plt.figure(figsize=(5, 5))\n",
    "gs = plt.GridSpec(1,1)\n",
    "analyze.plot_traces(fig1, gs, examples, \\\n",
    "                        plot_title='Detrended Data: ' + region_to_analyze)\n",
    "pp.close()"
   ]
  },
  {
   "cell_type": "markdown",
   "metadata": {
    "deletable": true,
    "editable": true
   },
   "source": [
    "### 3. Normalize data"
   ]
  },
  {
   "cell_type": "code",
   "execution_count": null,
   "metadata": {
    "collapsed": false,
    "deletable": true,
    "editable": true
   },
   "outputs": [],
   "source": [
    "if savemode_zscoredata:   \n",
    "    zscore = analyze.normalize(data_detrend, squelch_parameter=9000)\n",
    "else:\n",
    "    zscore = analyze.loadseriesdataset('zscore_data')"
   ]
  },
  {
   "cell_type": "code",
   "execution_count": null,
   "metadata": {
    "collapsed": false,
    "deletable": true,
    "editable": true
   },
   "outputs": [],
   "source": [
    "pp = PdfPages(Figure_PDFDirectory + FishName +'_Normalized.pdf')\n",
    "\n",
    "examples = analyze.get_small_subset_for_plotting(zscore, number_samples=100, threshold=0.5)\n",
    "img = zscore.seriesMean().pack()\n",
    "\n",
    "fig1 = plt.figure(figsize=(10,5))\n",
    "gs = plt.GridSpec(1,2)\n",
    "analyze.plotimageplanes(fig1, gs, img,  plot_title='Normalized Data: '+region_to_analyze, gridspecs='[0, 1]')\n",
    "analyze.plot_traces(fig1, gs, examples, gridspecs='[0,0]')\n",
    "plt.tight_layout()\n",
    "plt.show()\n",
    "pp.savefig(fig1, bbox_inches='tight')\n",
    "pp.close()"
   ]
  },
  {
   "cell_type": "markdown",
   "metadata": {
    "deletable": true,
    "editable": true
   },
   "source": [
    "## Smooth Data"
   ]
  },
  {
   "cell_type": "code",
   "execution_count": null,
   "metadata": {
    "collapsed": false,
    "deletable": true,
    "editable": true
   },
   "outputs": [],
   "source": [
    "windowlen = 11\n",
    "if savemode_smootheddata:    \n",
    "    zscore_smooth = zscore.toTimeSeries().smooth(window_len=windowlen) \n",
    "    analyze.saveasseries(data=zscore_smooth, savefilename='smoothed_data')\n",
    "else:\n",
    "    zscore_smooth = analyze.loadseriesdataset('smoothed_data')"
   ]
  },
  {
   "cell_type": "code",
   "execution_count": null,
   "metadata": {
    "collapsed": false,
    "deletable": true,
    "editable": true
   },
   "outputs": [],
   "source": [
    "pp = PdfPages(Figure_PDFDirectory + FishName +'Smoothed.pdf')\n",
    "examples = analyze.get_small_subset_for_plotting(zscore_smooth, number_samples=100, threshold=0.005)  \n",
    "    \n",
    "fig1 = plt.figure(figsize=(10,5))\n",
    "gs  = plt.GridSpec(1,1)\n",
    "analyze.plot_traces(fig1, gs, examples, num_subplots=1, \\\n",
    "                   plot_title='Smoothed Data: ' + region_to_analyze + \\\n",
    "                    ' moving average window =' + str(windowlen))\n",
    "plt.show()\n",
    "pp.savefig(fig1)\n",
    "pp.close()"
   ]
  },
  {
   "cell_type": "markdown",
   "metadata": {
    "deletable": true,
    "editable": true
   },
   "source": [
    "## PCA"
   ]
  },
  {
   "cell_type": "code",
   "execution_count": null,
   "metadata": {
    "collapsed": true,
    "deletable": true,
    "editable": true
   },
   "outputs": [],
   "source": [
    "PCA_data = zscore_smooth"
   ]
  },
  {
   "cell_type": "code",
   "execution_count": null,
   "metadata": {
    "collapsed": true,
    "deletable": true,
    "editable": true
   },
   "outputs": [],
   "source": [
    "# PCA parameters \n",
    "pca_components_ind = 3  # Number of pca components to detect from files\n",
    "num_pca_colors = 150  # Number of colors on the pca maps\n",
    "num_samples = 10000  # number of random samples to select to do PCA reconstruction\n",
    "thresh_pca = 0.0001  # Threshold above which to plot the pca components\n",
    "color_map = \"polar\"\n"
   ]
  },
  {
   "cell_type": "code",
   "execution_count": null,
   "metadata": {
    "collapsed": false,
    "deletable": true,
    "editable": true
   },
   "outputs": [],
   "source": [
    "#Load functions for PCA\n",
    "import functions_for_PCA\n",
    "reload(functions_for_PCA)\n",
    "from functions_for_PCA import class_PCA\n",
    "PCA = class_PCA(pca_components_ind, PCA_data, img_raw, num_pca_colors, num_samples,\\\n",
    "                    thresh_pca, color_map, color_mat,stimulus_on_time, stimulus_off_time, stimulus_train)"
   ]
  },
  {
   "cell_type": "code",
   "execution_count": null,
   "metadata": {
    "collapsed": true,
    "deletable": true,
    "editable": true
   },
   "outputs": [],
   "source": [
    "#Run PCA\n",
    "required_pcs = [0, 1]"
   ]
  },
  {
   "cell_type": "code",
   "execution_count": null,
   "metadata": {
    "collapsed": true,
    "deletable": true,
    "editable": true
   },
   "outputs": [],
   "source": [
    "model_PCA = PCA.run_pca()"
   ]
  },
  {
   "cell_type": "code",
   "execution_count": null,
   "metadata": {
    "collapsed": true,
    "deletable": true,
    "editable": true
   },
   "outputs": [],
   "source": [
    "imgs = PCA.get_pca_scores(model_PCA, required_pcs)"
   ]
  },
  {
   "cell_type": "code",
   "execution_count": null,
   "metadata": {
    "collapsed": false,
    "deletable": true,
    "editable": true
   },
   "outputs": [],
   "source": [
    "maps, pts, clrs, recon, unique_clrs_PCA, matched_pixels_PCA, \\\n",
    "               matched_signals, mean_signal, sem_signal = PCA.make_pca_maps(model_PCA, imgs, \\\n",
    "                                                       required_pcs, mixing_parameter=1)"
   ]
  },
  {
   "cell_type": "code",
   "execution_count": null,
   "metadata": {
    "collapsed": true,
    "deletable": true,
    "editable": true
   },
   "outputs": [],
   "source": [
    "pca_components = model_PCA.comps.T\n",
    "pca_eigenvalues = model_PCA.latent"
   ]
  },
  {
   "cell_type": "code",
   "execution_count": null,
   "metadata": {
    "collapsed": false,
    "deletable": true,
    "editable": true
   },
   "outputs": [],
   "source": [
    "pp = PdfPages(Figure_PDFDirectory + FishName + '_PCA.pdf')\n",
    "\n",
    "fig1 = plt.figure(figsize=(15,10))\n",
    "\n",
    "gs = plt.GridSpec(3,5, height_ratios=[0.25,0.25,1], width_ratios=[0.5,1.5,0.25,0.5,1.5, 1.5])\n",
    "PCA.plot_pca_components(fig1, gs, pca_components, required_pcs, plot_title='PCA components : ', gridspecs='[0,0:2]')\n",
    "\n",
    "PCA.plot_eigenvalues(fig1, gs, pca_eigenvalues, gridspecs='[1, 0:2]')\n",
    "\n",
    "if len(required_pcs) == 3:\n",
    "    PCA.plot_stimulus_in_3d(fig1, gs, pca_components, required_pcs, 'z', gridspecs='[2,0:2]')\n",
    "else:\n",
    "    PCA.plot_stimulus_in_2d(fig1, gs, pca_components, required_pcs, gridspecs='[2,0:2]')\n",
    "\n",
    "plt.tight_layout()\n",
    "plt.show()\n",
    "pp.savefig(fig1, bbox_inches='tight')"
   ]
  },
  {
   "cell_type": "code",
   "execution_count": null,
   "metadata": {
    "collapsed": false,
    "deletable": true,
    "editable": true
   },
   "outputs": [],
   "source": [
    "fig1 = plt.figure(figsize=(25,10))\n",
    "gs = plt.GridSpec(6,5, width_ratios=[5,0.2,5,0.5,1])\n",
    "PCA.plotimageplanes(fig1, gs, maps , plot_title='PCA map: ' + region_to_analyze,\\\n",
    "                        gridspecs='[0:3,0]')\n",
    "\n",
    "PCA.plot_scores_individually(fig1, gs, mean_signal, sem_signal, unique_clrs_PCA, plot_title='PCA scores : ' + region_to_analyze, gridspecs='[0, 2]')\n",
    "\n",
    "PCA.plot_matchedpixels(fig1, gs, matched_pixels_PCA, unique_clrs_PCA, gridspecs='[0:3,4]')\n",
    "\n",
    "plt.tight_layout()\n",
    "plt.show()\n",
    "pp.savefig(fig1, bbox_inches='tight')\n",
    "\n",
    "pp.close()"
   ]
  },
  {
   "cell_type": "code",
   "execution_count": null,
   "metadata": {
    "collapsed": false,
    "deletable": true,
    "editable": true
   },
   "outputs": [],
   "source": [
    "np.savez(NpzDirectory + 'pca_results.npz', pca_components=pca_components,\n",
    "                 pca_eigenvalues=pca_eigenvalues, new_imgs=imgs, maps=maps, pts=pts, clrs=clrs,\n",
    "                 recon=recon, unique_clrs=unique_clrs_PCA, matched_pixels=matched_pixels_PCA, matched_signals=matched_signals,\n",
    "                 mean_signal=mean_signal, sem_signal=sem_signal, required_pcs=required_pcs)"
   ]
  },
  {
   "cell_type": "markdown",
   "metadata": {
    "deletable": true,
    "editable": true
   },
   "source": [
    "## Run Kmeans"
   ]
  },
  {
   "cell_type": "code",
   "execution_count": null,
   "metadata": {
    "collapsed": false,
    "deletable": true,
    "editable": true
   },
   "outputs": [],
   "source": [
    "#Kmeans_Parameters\n",
    "kmeans_clusters_num = 15\n",
    "kmeans_data = zscore_smooth"
   ]
  },
  {
   "cell_type": "code",
   "execution_count": null,
   "metadata": {
    "collapsed": false,
    "deletable": true,
    "editable": true
   },
   "outputs": [],
   "source": [
    "#Load functions for kmeans \n",
    "import functions_for_kmeans\n",
    "reload(functions_for_kmeans)\n",
    "from functions_for_kmeans import class_kmeans\n",
    "kmeans = class_kmeans(kmeans_clusters_num, kmeans_data, img_raw, stimulus_on_time, stimulus_off_time, stimulus_train)"
   ]
  },
  {
   "cell_type": "code",
   "execution_count": null,
   "metadata": {
    "collapsed": false,
    "deletable": true,
    "editable": true
   },
   "outputs": [],
   "source": [
    "# Perform kmeans\n",
    "model_kmeans, img_sim, img_labels = kmeans.run_kmeans()"
   ]
  },
  {
   "cell_type": "code",
   "execution_count": null,
   "metadata": {
    "collapsed": false,
    "deletable": true,
    "editable": true
   },
   "outputs": [],
   "source": [
    "kmeans_clusters = model_kmeans.centers.T"
   ]
  },
  {
   "cell_type": "code",
   "execution_count": null,
   "metadata": {
    "collapsed": false,
    "deletable": true,
    "editable": true
   },
   "outputs": [],
   "source": [
    "#Check plots with a random colormap\n",
    "fig1 = plt.figure(figsize=(20,10))\n",
    "gs = plt.GridSpec(8, 8)\n",
    "cmapCat = ListedColormap(sns.color_palette(\"Paired\", n_colors=kmeans_clusters_num), name='from_list')\n",
    "centered_cmap = kmeans.plot_kmeans_components(fig1, gs, kmeans_clusters[:,:], cmapCat,\n",
    "                                  plot_title='Kmeans_clusters : ' + region_to_analyze, \n",
    "                                  gridspecs='[0,0]', model_center=0)\n",
    "kmeans.createbrainmap_withcmap(fig1,gs, centered_cmap, img_labels, img_sim, mixing_parameter = 0.5, gridspecs='[3:,0:]')\n",
    "plt.tight_layout()\n",
    "\n",
    "plt.show()"
   ]
  },
  {
   "cell_type": "code",
   "execution_count": null,
   "metadata": {
    "collapsed": false,
    "deletable": true,
    "editable": true
   },
   "outputs": [],
   "source": [
    "#Use a colorbrewer colormap to create map of brain\n",
    "ignore_clusters = [5]\n",
    "\n",
    "brainmap, unique_clrs, newclrs_updated_rgb, newclrs_updated_brewer, matched_pixels, \\\n",
    "kmeans_clusters_updated = kmeans.make_kmeans_maps(kmeans_clusters, \\\n",
    "                                                          img_labels, img_sim, mixing_parameter=0.2,\n",
    "                                                          std_threshold=0.0005, ignore_clusters=ignore_clusters)"
   ]
  },
  {
   "cell_type": "code",
   "execution_count": null,
   "metadata": {
    "collapsed": false,
    "deletable": true,
    "editable": true,
    "run_control": {
     "marked": false
    }
   },
   "outputs": [],
   "source": [
    "pp = PdfPages(Figure_PDFDirectory + FishName + '_KMeans.pdf')\n",
    "fig1 = plt.figure(figsize=(15,10))\n",
    "gs = plt.GridSpec(6, 4, width_ratios=[1,0.2,1,1])\n",
    "cmapCat = ListedColormap(sns.color_palette(\"Paired\", n_colors=kmeans_clusters_num), name='from_list')\n",
    "centered_cmap = kmeans.plot_kmeans_components(fig1, gs, kmeans_clusters[:,:], cmapCat,\\\n",
    "                                  plot_title='Kmeans_clusters : ' + region_to_analyze,\n",
    "                                  num_subplots=1, gridspecs='[0,0]', model_center=1,\\\n",
    "                                              removeclusters = ignore_clusters)\n",
    "\n",
    "kmeans.createbrainmap_withcmap(fig1,gs, centered_cmap, img_labels, img_sim, mixing_parameter = 0.5, gridspecs='[3:,0:]')\n",
    "\n",
    "plt.tight_layout()\n",
    "pp.savefig(fig1, bbox_inches='tight')"
   ]
  },
  {
   "cell_type": "code",
   "execution_count": null,
   "metadata": {
    "collapsed": false,
    "deletable": true,
    "editable": true,
    "run_control": {
     "marked": false
    }
   },
   "outputs": [],
   "source": [
    "fig1 = plt.figure(figsize=(20,5))\n",
    "gs = plt.GridSpec(1,5,width_ratios=[5,0.1,3,0.5,1])\n",
    "kmeans.plotimageplanes(fig1, gs, brainmap , plot_title='Brain Map : '+region_to_analyze, gridspecs='[0,0]')\n",
    "kmeans.plot_kmeans_components(fig1, gs, kmeans_clusters_updated, newclrs_updated_brewer,\\\n",
    "                              plot_title='Kmeans_clusters : ' + region_to_analyze, num_subplots=2, \\\n",
    "                              flag_separate=0, gridspecs='[0,2]', model_center=0)\n",
    "kmeans.plot_matchedpixels(fig1, gs, matched_pixels, unique_clrs, gridspecs='[0,4]')\n",
    "\n",
    "plt.tight_layout()\n",
    "plt.show()\n",
    "pp.savefig(fig1, bbox_inches='tight')"
   ]
  },
  {
   "cell_type": "code",
   "execution_count": null,
   "metadata": {
    "collapsed": true,
    "deletable": true,
    "editable": true
   },
   "outputs": [],
   "source": [
    "pp.close()"
   ]
  },
  {
   "cell_type": "code",
   "execution_count": null,
   "metadata": {
    "collapsed": true,
    "deletable": true,
    "editable": true
   },
   "outputs": [],
   "source": [
    "np.savez(NpzDirectory + 'kmeans_results.npz', stimulus_on_time=stimulus_on_time,stimulus_off_time=stimulus_off_time,\n",
    "         stimulus_train = stimulus_train, frames_per_sec = frames_per_sec, time_experiment=time_end, \n",
    "         kmeans_clusters=kmeans_clusters, ignore_clusters=ignore_clusters, \n",
    "         kmeans_clusters_updated=kmeans_clusters_updated, img_labels = img_labels, img_sim = img_sim, \n",
    "         brainmap = brainmap, unique_clrs = unique_clrs, newclrs_updated_rgb = newclrs_updated_rgb, reference_image = img_raw, \n",
    "         newclrs_updated_brewer = newclrs_updated_brewer, matched_pixels = matched_pixels, centered_cmap=centered_cmap.colors)"
   ]
  },
  {
   "cell_type": "markdown",
   "metadata": {
    "deletable": true,
    "editable": true
   },
   "source": [
    "## Run CNMF"
   ]
  },
  {
   "cell_type": "code",
   "execution_count": null,
   "metadata": {
    "collapsed": true,
    "deletable": true,
    "editable": true
   },
   "outputs": [],
   "source": [
    "#CNMF Parameter\n",
    "NMF_Data = zscore_smooth"
   ]
  },
  {
   "cell_type": "code",
   "execution_count": null,
   "metadata": {
    "collapsed": false,
    "deletable": true,
    "editable": true
   },
   "outputs": [],
   "source": [
    "# CNMF parameters \n",
    "nmf_number_of_components = 5 # Number of pca components to detect from files\n",
    "nmf_max_iterations = 10\n",
    "nmf_tolerance_level = 0.001\n",
    "nmf_color_map = 'indexed'  # Colormap for plotting NMF components\n",
    "nmf_colors = sns.color_palette(\"Paired\", n_colors=nmf_number_of_components)\n",
    "\n",
    "print 'ColorMAP..shape (%d, %d) \\n' % (np.shape(nmf_colors))\n",
    "sns.palplot(nmf_colors)"
   ]
  },
  {
   "cell_type": "code",
   "execution_count": null,
   "metadata": {
    "collapsed": false,
    "deletable": true,
    "editable": true,
    "run_control": {
     "marked": false
    }
   },
   "outputs": [],
   "source": [
    "#Load functions for PCA\n",
    "import functions_for_NMF\n",
    "reload(functions_for_NMF)\n",
    "from functions_for_NMF import class_NMF\n",
    "NMF = class_NMF(nmf_number_of_components, NMF_Data, img_raw, nmf_colors, nmf_color_map, nmf_max_iterations, nmf_tolerance_level,\n",
    "                 stimulus_on_time, stimulus_off_time, stimulus_train, frames_per_sec)"
   ]
  },
  {
   "cell_type": "code",
   "execution_count": null,
   "metadata": {
    "collapsed": false,
    "deletable": true,
    "editable": true
   },
   "outputs": [],
   "source": [
    "NMF_model, NMF_image = NMF.run_NMF()"
   ]
  },
  {
   "cell_type": "code",
   "execution_count": null,
   "metadata": {
    "collapsed": false,
    "deletable": true,
    "editable": true
   },
   "outputs": [],
   "source": [
    "NMF_components = NMF_model.h.T\n",
    "NMF_maps = NMF.make_NMF_maps(NMF_image,  mixing_parameter=0.3)"
   ]
  },
  {
   "cell_type": "code",
   "execution_count": null,
   "metadata": {
    "collapsed": false,
    "deletable": true,
    "editable": true,
    "run_control": {
     "marked": false
    }
   },
   "outputs": [],
   "source": [
    "ignore_clusters = [8, 9, 4, 1]\n",
    "#recreate NMf maps\n",
    "NMF_maps = NMF.make_NMF_maps(NMF_image, ignore_clusters=ignore_clusters, mixing_parameter=0.3)"
   ]
  },
  {
   "cell_type": "code",
   "execution_count": null,
   "metadata": {
    "collapsed": false,
    "deletable": true,
    "editable": true
   },
   "outputs": [],
   "source": [
    "pp = PdfPages(Figure_PDFDirectory + FishName + '_NMF.pdf')\n",
    "\n",
    "fs = plt.figure(figsize=(15,10))\n",
    "gs = plt.GridSpec(4, 2, width_ratios=[1, 1.5])\n",
    "\n",
    "ax1 = fs.add_subplot(gs[0:2, :])\n",
    "plt.imshow(NMF_maps, aspect=None)\n",
    "plt.axis('off')\n",
    "\n",
    "NMF.plot_nmf_components(fs, gs, NMF_components, plot_title='Habneula', gridspecs='[2,:]')\n",
    "plt.tight_layout()\n",
    "\n",
    "pp.savefig()\n",
    "pp.close()"
   ]
  },
  {
   "cell_type": "code",
   "execution_count": null,
   "metadata": {
    "collapsed": true,
    "deletable": true,
    "editable": true
   },
   "outputs": [],
   "source": [
    "np.savez(NpzDirectory + 'nmf_results1.npz', nmf_number_of_components = nmf_number_of_components, \n",
    "         nmf_max_iterations = nmf_max_iterations, nmf_tolerance_level = nmf_tolerance_level,\n",
    "         nmf_color_map = nmf_color_map, nmf_colors = nmf_colors, NMF_components = NMF_components, NMF_maps = NMF_maps,\n",
    "         NMF_image = NMF_image, img_reference=img_raw)"
   ]
  },
  {
   "cell_type": "markdown",
   "metadata": {
    "deletable": true,
    "editable": true
   },
   "source": [
    "## Regression and Correlation"
   ]
  },
  {
   "cell_type": "code",
   "execution_count": null,
   "metadata": {
    "collapsed": false,
    "deletable": true,
    "editable": true
   },
   "outputs": [],
   "source": [
    "regression_data = zscore_smooth\n",
    "amplitude_for_stimulus_train = 5"
   ]
  },
  {
   "cell_type": "code",
   "execution_count": null,
   "metadata": {
    "code_folding": [
     4
    ],
    "collapsed": false,
    "deletable": true,
    "editable": true,
    "run_control": {
     "marked": false
    }
   },
   "outputs": [],
   "source": [
    "#Load functions for regression\n",
    "import functions_for_regression\n",
    "reload(functions_for_regression)\n",
    "from functions_for_regression import class_regression\n",
    "regression = class_regression(regression_data, \\\n",
    "                                  time_experiment, stimulus_on_time,\\\n",
    "                                  stimulus_off_time, stimulus_train, amplitude_for_stimulus_train)\n"
   ]
  },
  {
   "cell_type": "code",
   "execution_count": null,
   "metadata": {
    "code_folding": [],
    "collapsed": false,
    "deletable": true,
    "editable": true,
    "run_control": {
     "marked": false
    }
   },
   "outputs": [],
   "source": [
    "# Get regressors\n",
    "pp = PdfPages(Figure_PDFDirectory + FishName + '_Regression.pdf')\n",
    "fig1 = plt.figure(figsize=(5, 4))\n",
    "regressors, regressorlist = regression.create_regression_parameters(fig1,\\\n",
    "                                                                    smooth_window_length=10, plot_flag=1)\n",
    "plt.tight_layout()\n",
    "plt.show()\n",
    "pp.savefig(fig1,  bbox_inches='tight')"
   ]
  },
  {
   "cell_type": "code",
   "execution_count": null,
   "metadata": {
    "collapsed": false,
    "deletable": true,
    "editable": true
   },
   "outputs": [],
   "source": [
    "# Plot correlation coefficient for each odor concentration\n",
    "fig1 = plt.figure(figsize=(15,10))\n",
    "A = list(np.ones(len(regressors)))\n",
    "A.append(0.15)\n",
    "A = np.array(A)\n",
    "gs = plt.GridSpec(1, len(regressors)+1)\n",
    "corrMat = np.zeros((np.size(img_raw,0),np.size(img_raw,1),len(regressors)))\n",
    "count = 0\n",
    "colorbar = False\n",
    "for key, value in regressors.iteritems():\n",
    "    corrMat[:,:,count] = regression.plot_correlation_with_regressors(fig1, gs, key, value, gridspecs='[0, '+ str(count)+']',\n",
    "                                        color_bar=colorbar, region='All', clim=[-1, 1])\n",
    "        \n",
    "    count += 1\n",
    "\n",
    "plt.suptitle('Correlation Coefficients with regressors')\n",
    "plt.tight_layout()\n",
    "plt.show()\n",
    "pp.savefig(fig1)\n",
    "pp.close()"
   ]
  },
  {
   "cell_type": "code",
   "execution_count": null,
   "metadata": {
    "collapsed": true,
    "deletable": true,
    "editable": true
   },
   "outputs": [],
   "source": [
    "regression_results, betas, rsq = regression.perform_regression(regressorlist)"
   ]
  },
  {
   "cell_type": "code",
   "execution_count": null,
   "metadata": {
    "collapsed": true,
    "deletable": true,
    "editable": true
   },
   "outputs": [],
   "source": [
    "#Plot r-squared\n",
    "fig1 = plt.figure(figsize=(15,10))\n",
    "gs = plt.GridSpec(1, 1)\n",
    "\n",
    "regression.plotimageplanes(fig1, gs, rsq, cmap = 'gray', color_bar=True, plot_title='Rsquare: dHb', gridspecs='[0,0]')\n",
    "\n",
    "plt.tight_layout()\n",
    "plt.show()\n",
    "pp.savefig(fig1)"
   ]
  },
  {
   "cell_type": "code",
   "execution_count": null,
   "metadata": {
    "collapsed": true,
    "deletable": true,
    "editable": true
   },
   "outputs": [],
   "source": [
    "# plot betas seperately\n",
    "fig1 = plt.figure(figsize=(20 ,5))\n",
    "gs = plt.GridSpec(2, len(regressors))\n",
    "for ii in xrange(0, len(regressors)):\n",
    "    b1map = regression.center(betas[ii,:,:])\n",
    "    regression.plotimageplanes(fig1, gs, b1map, cmap = 'seismic', color_bar=False, plot_title='Betas: '+regressors.keys()[ii],\\\n",
    "                                   gridspecs='[0,'+str(ii)+']', clim=[-1, 1])\n",
    "    \n",
    "    \n",
    "plt.show()\n",
    "pp.savefig(fig1)"
   ]
  },
  {
   "cell_type": "code",
   "execution_count": null,
   "metadata": {
    "collapsed": true,
    "deletable": true,
    "editable": true
   },
   "outputs": [],
   "source": [
    "# Plot regressors as an RGB on the habenula mean image plane - dHb\n",
    "colors = ['aqua', 'green', 'orange', 'DarkRed', 'Fuchsia','DarkSlateBlue']\n",
    "\n",
    "\n",
    "fig1 = plt.figure(figsize=(20 ,10))\n",
    "gs = plt.GridSpec(4, len(regressors), height_ratios=[1,1,0.2,3])\n",
    "\n",
    "regression.plot_regressors_as_RGB(fig1, gs, regressors, rsq, betas, colors, brightness_scale=10, mixing_parameter=0.5)\n",
    "\n",
    "plt.show()\n",
    "pp.savefig(fig1)"
   ]
  },
  {
   "cell_type": "code",
   "execution_count": null,
   "metadata": {
    "collapsed": true,
    "deletable": true,
    "editable": true
   },
   "outputs": [],
   "source": [
    "pp.close()"
   ]
  },
  {
   "cell_type": "code",
   "execution_count": null,
   "metadata": {
    "collapsed": true,
    "deletable": true,
    "editable": true
   },
   "outputs": [],
   "source": [
    "np.savez(NpzDirectory + 'corr_coefficient.npz', corrMat=corrMat,  \n",
    "         regression_results=regression_results, betas=betas, rsq = rsq,\n",
    "         regressors=regressors, regressorlist=regressorlist)"
   ]
  },
  {
   "cell_type": "markdown",
   "metadata": {
    "collapsed": true,
    "deletable": true,
    "editable": true
   },
   "source": [
    "## Zip Numpy Array files so it is smaller"
   ]
  },
  {
   "cell_type": "code",
   "execution_count": 12,
   "metadata": {
    "collapsed": true,
    "deletable": true,
    "editable": true
   },
   "outputs": [],
   "source": [
    "def zipdir(path, ziph):\n",
    "    # ziph is zipfile handle\n",
    "    for root, dirs, files in os.walk(path):\n",
    "        for file in files:\n",
    "            ziph.write(os.path.join(root, file))"
   ]
  },
  {
   "cell_type": "code",
   "execution_count": 13,
   "metadata": {
    "collapsed": true,
    "deletable": true,
    "editable": true
   },
   "outputs": [],
   "source": [
    "# Zip files\n",
    "zipf = zipfile.ZipFile(os.path.join(FolderName, region_to_analyze, 'NumpyArrays.zip')\n",
    "                       , 'w', zipfile.ZIP_DEFLATED)\n",
    "zipdir(NpzDirectory, zipf)\n",
    "zipf.close()"
   ]
  },
  {
   "cell_type": "code",
   "execution_count": 14,
   "metadata": {
    "collapsed": false,
    "deletable": true,
    "editable": true
   },
   "outputs": [],
   "source": [
    "# If zip file exists, delete original\n",
    "if os.path.isfile(os.path.join(FolderName, region_to_analyze, 'NumpyArrays.zip')):\n",
    "    shutil.rmtree(NpzDirectory)\n",
    "else:\n",
    "    raise(ValueError('Something went wrong with compressing. Check'))\n"
   ]
  },
  {
   "cell_type": "code",
   "execution_count": null,
   "metadata": {
    "collapsed": true,
    "deletable": true,
    "editable": true
   },
   "outputs": [],
   "source": []
  }
 ],
 "metadata": {
  "kernelspec": {
   "display_name": "Python 2",
   "language": "python",
   "name": "python2"
  },
  "language_info": {
   "codemirror_mode": {
    "name": "ipython",
    "version": 2
   },
   "file_extension": ".py",
   "mimetype": "text/x-python",
   "name": "python",
   "nbconvert_exporter": "python",
   "pygments_lexer": "ipython2",
   "version": "2.7.12"
  }
 },
 "nbformat": 4,
 "nbformat_minor": 0
}
