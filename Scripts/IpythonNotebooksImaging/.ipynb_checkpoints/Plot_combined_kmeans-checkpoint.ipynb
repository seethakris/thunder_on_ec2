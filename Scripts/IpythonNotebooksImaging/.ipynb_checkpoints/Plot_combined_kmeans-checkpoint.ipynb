{
 "cells": [
  {
   "cell_type": "code",
   "execution_count": 1,
   "metadata": {
    "collapsed": true
   },
   "outputs": [],
   "source": [
    "import seaborn as sns\n",
    "import matplotlib.pyplot as plt\n",
    "import numpy as np\n",
    "from thunder import Colorize\n",
    "import os\n",
    "import sys\n",
    "from copy import copy\n",
    "from matplotlib.backends.backend_pdf import PdfPages\n",
    "\n",
    "filesep = os.path.sep\n",
    "%matplotlib inline\n",
    "sns.set_context('notebook', font_scale=1.5)\n",
    "image = Colorize.image"
   ]
  },
  {
   "cell_type": "code",
   "execution_count": 2,
   "metadata": {
    "collapsed": false
   },
   "outputs": [
    {
     "name": "stdout",
     "output_type": "stream",
     "text": [
      "Analysing.. ['OBPlane']\n",
      "NumpyArray path exists.. [False]\n"
     ]
    }
   ],
   "source": [
    "DirectoryName = '/Users/seetha/Desktop/Alarm_Response/Imaging/Fish6'\n",
    "\n",
    "FolderName = [ii for ii in os.listdir(DirectoryName) if ii.find('.DS_Store') < 0]\n",
    "print 'Analysing..', FolderName\n",
    "\n",
    "KmeansPathName = [os.path.join(DirectoryName, ii, 'NumpyArrays') + filesep for ii in FolderName]\n",
    "print 'NumpyArray path exists..', [os.path.exists(ii) for ii in KmeansPathName]"
   ]
  },
  {
   "cell_type": "code",
   "execution_count": null,
   "metadata": {
    "collapsed": true,
    "run_control": {
     "marked": true
    }
   },
   "outputs": [],
   "source": [
    "import functions_for_plotting_kmeans\n",
    "reload(functions_for_plotting_kmeans)\n",
    "from functions_for_plotting_kmeans import plotKmeans"
   ]
  },
  {
   "cell_type": "code",
   "execution_count": null,
   "metadata": {
    "collapsed": false,
    "run_control": {
     "marked": true
    }
   },
   "outputs": [],
   "source": [
    "#Make the colormaps similar\n",
    "kmeans = []\n",
    "for ii in KmeansPathName:\n",
    "    kmeans.append(plotKmeans(ii)) "
   ]
  },
  {
   "cell_type": "code",
   "execution_count": null,
   "metadata": {
    "collapsed": false,
    "run_control": {
     "marked": true
    }
   },
   "outputs": [],
   "source": [
    "fig1 = plt.figure(figsize=(10, 10))\n",
    "gs = plt.GridSpec(2, np.size(kmeans), height_ratios=[2, 2, 1])\n",
    "for ii in xrange(0, np.size(kmeans)):\n",
    "    # plot average image\n",
    "    print ii\n",
    "    ax1 = fig1.add_subplot(gs[0, ii])\n",
    "    image(kmeans[ii].reference_image)\n",
    "    new_brainmap = kmeans[ii].createbrainmap_withcmap(fig1,gs, mixing_parameter = 0.1, gridspecs='[1,' + str(ii) + ']')"
   ]
  },
  {
   "cell_type": "code",
   "execution_count": null,
   "metadata": {
    "collapsed": false
   },
   "outputs": [],
   "source": [
    "np.size(kmeans)"
   ]
  },
  {
   "cell_type": "code",
   "execution_count": null,
   "metadata": {
    "collapsed": true
   },
   "outputs": [],
   "source": []
  }
 ],
 "metadata": {
  "kernelspec": {
   "display_name": "Python 2",
   "language": "python",
   "name": "python2"
  },
  "language_info": {
   "codemirror_mode": {
    "name": "ipython",
    "version": 2
   },
   "file_extension": ".py",
   "mimetype": "text/x-python",
   "name": "python",
   "nbconvert_exporter": "python",
   "pygments_lexer": "ipython2",
   "version": "2.7.12"
  }
 },
 "nbformat": 4,
 "nbformat_minor": 0
}
